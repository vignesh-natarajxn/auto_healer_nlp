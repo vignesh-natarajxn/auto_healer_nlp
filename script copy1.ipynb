{
 "cells": [
  {
   "cell_type": "code",
   "execution_count": 119,
   "metadata": {},
   "outputs": [],
   "source": [
    "import spacy\n",
    "from spacy.matcher import Matcher\n",
    "from spacy.tokens import Span\n",
    "\n",
    "nlp = spacy.load('en_core_web_sm')\n",
    "matcher = Matcher(nlp.vocab)\n",
    "\n",
    "def show_ents(doc):\n",
    "    if doc.ents:\n",
    "        for ent in doc.ents:\n",
    "            print(ent.text+' - '+ent.label_+' - ' +\n",
    "                  str(spacy.explain(ent.label_)))\n",
    "    else:\n",
    "        print('No named entities found.')"
   ]
  },
  {
   "cell_type": "code",
   "execution_count": 121,
   "metadata": {},
   "outputs": [
    {
     "name": "stdout",
     "output_type": "stream",
     "text": [
      "[(2914936248315507649, 2, 3)]\n",
      "[unable]\n"
     ]
    }
   ],
   "source": [
    "saba_patterns = [[{\"LOWER\": \"saba\"}],\n",
    "                 [{\"LOWER\": \"saba\"}, {\"IS_PUNCT\": True, \"OP\": \"*\"}, {\"LOWER\": \"portal\"}],\n",
    "                 [{\"LOWER\": \"saba\"}, {\"LOWER\": 'portal'}]]\n",
    "docSaba = nlp(u\"Saba\")\n",
    "saba_pattern = [[{\"LOWER\": \"saba\"}]]\n",
    "matcher.add(\"Saba\", saba_pattern)\n",
    "saba_matches = matcher(docSaba)\n",
    "print(saba_matches)\n",
    "\n",
    "ORG = doc.vocab.strings[u\"ORG\"]\n",
    "saba_ents = [Span(doc, match[1], match[2], label=ORG)\n",
    "             for match in saba_matches]\n",
    "print(saba_ents)\n",
    "doc.ents = list(doc.ents) + [\"Saba\"]\n",
    "show_ents(doc)\n",
    "\n",
    "saba_pattern = nlp(\"Saba\")\n",
    "matcher.add(\"Saba\", [saba_pattern])\n",
    "saba_matches = matcher(doc)\n",
    "print(saba_matches)"
   ]
  },
  {
   "cell_type": "code",
   "execution_count": null,
   "metadata": {},
   "outputs": [],
   "source": [
    "doc = nlp(u\"I am unable to login to Saba portal before saba\")\n"
   ]
  }
 ],
 "metadata": {
  "kernelspec": {
   "display_name": "Python 3",
   "language": "python",
   "name": "python3"
  },
  "language_info": {
   "codemirror_mode": {
    "name": "ipython",
    "version": 3
   },
   "file_extension": ".py",
   "mimetype": "text/x-python",
   "name": "python",
   "nbconvert_exporter": "python",
   "pygments_lexer": "ipython3",
   "version": "3.11.0"
  },
  "orig_nbformat": 4
 },
 "nbformat": 4,
 "nbformat_minor": 2
}
