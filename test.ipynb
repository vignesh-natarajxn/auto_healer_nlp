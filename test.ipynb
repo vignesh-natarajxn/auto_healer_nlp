{
 "cells": [
  {
   "cell_type": "code",
   "execution_count": 1,
   "metadata": {},
   "outputs": [],
   "source": [
    "import spacy\n",
    "\n",
    "nlp = spacy.load('en_core_web_sm')"
   ]
  },
  {
   "cell_type": "code",
   "execution_count": 38,
   "metadata": {},
   "outputs": [],
   "source": [
    "doc1 = nlp(u\"Autonomous cars by Tesla will shift insurance liability towards manufacturers\")"
   ]
  },
  {
   "cell_type": "code",
   "execution_count": null,
   "metadata": {},
   "outputs": [],
   "source": [
    "for token in doc1:\n",
    "    print (token.text, token.pos_, token.dep_)"
   ]
  },
  {
   "cell_type": "code",
   "execution_count": 40,
   "metadata": {},
   "outputs": [
    {
     "name": "stdout",
     "output_type": "stream",
     "text": [
      "Tesla ORG\n"
     ]
    }
   ],
   "source": [
    "for entity in doc1.ents:\n",
    "    print (entity, entity.label_)"
   ]
  },
  {
   "cell_type": "code",
   "execution_count": 41,
   "metadata": {},
   "outputs": [
    {
     "name": "stdout",
     "output_type": "stream",
     "text": [
      "Autonomous cars\n",
      "Tesla\n",
      "insurance liability\n",
      "manufacturers\n"
     ]
    }
   ],
   "source": [
    "for chunk in doc1.noun_chunks:\n",
    "    print(chunk)"
   ]
  },
  {
   "cell_type": "code",
   "execution_count": null,
   "metadata": {},
   "outputs": [],
   "source": [
    "doc2 = nlp(u\"my courses are not marked completed in saba\")\n",
    "for token in doc2:\n",
    "    print(token.text, token.pos_, token.dep_)\n"
   ]
  },
  {
   "cell_type": "code",
   "execution_count": 43,
   "metadata": {},
   "outputs": [
    {
     "name": "stdout",
     "output_type": "stream",
     "text": [
      "{'former', 'might', 'in', 'were', 'too', 'something', 'whose', 'where', 'when', 'much', 'sixty', 'other', 'two', 'twenty', 'everyone', \"'m\", 'hereafter', 'anyhow', 'themselves', 'namely', 'really', 'side', 'hereupon', 'show', 'to', 'give', 'also', '‘ve', 'empty', 'regarding', 'neither', 'meanwhile', 'within', 'three', 'nevertheless', 'same', 'go', 'who', '’ll', 'on', 'as', \"'d\", 'no', '’s', 'somehow', 'hence', 'never', 'move', 'do', 'next', 'been', 'whereafter', 'become', 'besides', 'just', 'again', 'because', 'using', 'towards', 'whom', 'his', 'yours', \"'re\", 'from', 'whereby', 'only', 'whoever', 'us', 'they', 'are', 'others', 'doing', 'everywhere', \"'s\", 'except', '’m', 'anywhere', 'all', 'last', 'had', 'although', 'yet', 'see', 'she', 'under', 'during', 'him', 'below', 'up', 'least', 'none', 'done', 'nobody', 'seemed', 'along', 'put', 'made', 'seem', 'being', 'behind', 'thereafter', 'back', 'such', 'n‘t', 'call', 'above', 'already', 'yourself', 'one', 'name', 'beyond', 'thence', 'four', 'own', 'whither', 'should', 'then', 'would', 'between', 'am', 'of', 'used', 'became', '’re', 'every', 'moreover', 'those', 'anything', 'does', 'must', '‘m', 'top', 'more', 'he', 'with', 'is', 'eight', 'anyone', 'onto', 'well', 'due', 'bottom', 'whole', 'take', 'my', 'a', 'various', 'into', 'after', 'either', 'our', 'your', 'say', 'and', 'ever', 'whereas', 'nothing', 'third', 'it', 'this', 'these', 'around', 'before', 'since', 'fifteen', 'nine', 'thereby', 'though', '‘re', 'hereby', 'through', 'somewhere', 'may', 'across', 'at', 'further', 'nowhere', 'thru', 'without', 'whence', 'itself', 'down', 'together', 'seeming', 'throughout', 'otherwise', 'five', 'over', 'thereupon', 'via', 'me', 'several', 'always', 'by', 'sometimes', 'still', 'please', 'formerly', 'rather', 'first', 'have', 'ten', 'very', 'was', 'did', 'even', 'which', 'someone', 'full', 'each', \"'ve\", 'could', 'now', 'what', 'per', 'often', 'wherein', 'among', 'while', 'noone', 'nor', 'we', 'yourselves', 'less', 'ca', 'than', 'fifty', 'so', 'for', 'sometime', 'whatever', 'herself', 'that', 'her', 'an', 'therein', 'afterwards', 'hundred', 'therefore', 'beforehand', '‘s', 'becoming', 'forty', 'i', 'will', 'part', 'wherever', \"n't\", 'herein', 'twelve', 'everything', 'quite', 'or', 'the', 'front', 'if', 'else', 'but', 'how', 'elsewhere', 'once', 'perhaps', 'keep', 'becomes', 'both', 'seems', 'alone', 'beside', 'why', 'amongst', 'thus', 'whenever', '’d', 'whether', '’ve', 'until', 'indeed', \"'ll\", 'many', 'mine', 'few', 'them', 'has', 'their', 'most', 'whereupon', 'its', 'latter', 'be', 'ourselves', 'about', 'any', 'almost', 'against', 'can', 'cannot', 'n’t', 'anyway', 'some', 'another', 'himself', 'toward', 'off', 'serious', 'not', 'out', 'hers', 'mostly', 'unless', 'ours', 'latterly', 'there', 'myself', 'here', 'upon', 're', 'eleven', 'amount', '‘d', '‘ll', 'get', 'six', 'enough', 'you', 'make', 'however'}\n"
     ]
    }
   ],
   "source": [
    "print (nlp.Defaults.stop_words)"
   ]
  },
  {
   "cell_type": "code",
   "execution_count": 44,
   "metadata": {},
   "outputs": [
    {
     "data": {
      "text/plain": [
       "True"
      ]
     },
     "execution_count": 44,
     "metadata": {},
     "output_type": "execute_result"
    }
   ],
   "source": [
    "nlp.Defaults.stop_words.add('btw') #can also remove\n",
    "nlp.vocab['btw'].is_stop"
   ]
  }
 ],
 "metadata": {
  "kernelspec": {
   "display_name": "Python 3",
   "language": "python",
   "name": "python3"
  },
  "language_info": {
   "codemirror_mode": {
    "name": "ipython",
    "version": 3
   },
   "file_extension": ".py",
   "mimetype": "text/x-python",
   "name": "python",
   "nbconvert_exporter": "python",
   "pygments_lexer": "ipython3",
   "version": "3.11.0"
  },
  "orig_nbformat": 4
 },
 "nbformat": 4,
 "nbformat_minor": 2
}
